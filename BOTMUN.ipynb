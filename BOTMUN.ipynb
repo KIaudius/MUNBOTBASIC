{
  "nbformat": 4,
  "nbformat_minor": 0,
  "metadata": {
    "colab": {
      "name": "BOTMUN.ipynb",
      "provenance": []
    },
    "kernelspec": {
      "name": "python3",
      "display_name": "Python 3"
    },
    "language_info": {
      "name": "python"
    }
  },
  "cells": [
    {
      "cell_type": "markdown",
      "source": [
        "HELPBOT V-1.0.0"
      ],
      "metadata": {
        "id": "BeTBlsVK8kbK"
      }
    },
    {
      "cell_type": "markdown",
      "source": [
        "Mounting google drive for file transfer flexibility"
      ],
      "metadata": {
        "id": "Kvn41QAf8ckJ"
      }
    },
    {
      "cell_type": "code",
      "execution_count": null,
      "metadata": {
        "colab": {
          "base_uri": "https://localhost:8080/"
        },
        "id": "dzFO2m_q7XvK",
        "outputId": "94e1685a-e29a-49ff-ce63-a3cdb0e2168a"
      },
      "outputs": [
        {
          "output_type": "stream",
          "name": "stdout",
          "text": [
            "Mounted at /content/drive\n"
          ]
        }
      ],
      "source": [
        "from google.colab import drive\n",
        "drive.mount('/content/drive')"
      ]
    },
    {
      "cell_type": "markdown",
      "source": [
        "Importing Necessary Librarys "
      ],
      "metadata": {
        "id": "KVeArGk68LLa"
      }
    },
    {
      "cell_type": "code",
      "source": [
        "from codecs import ignore_errors\n",
        "import numpy as np\n",
        "import nltk \n",
        "import string\n",
        "import random\n",
        "import warnings\n",
        "warnings.filterwarnings('ignore')"
      ],
      "metadata": {
        "id": "wRlwaxrb7i0J"
      },
      "execution_count": null,
      "outputs": []
    },
    {
      "cell_type": "code",
      "source": [
        "from nltk.stem import WordNetLemmatizer\n",
        "nltk.download('popular', quiet=True)"
      ],
      "metadata": {
        "colab": {
          "base_uri": "https://localhost:8080/"
        },
        "id": "W1UMTu8eWs07",
        "outputId": "8a6db732-cafb-442c-80c0-eca8b3133ff6"
      },
      "execution_count": null,
      "outputs": [
        {
          "output_type": "execute_result",
          "data": {
            "text/plain": [
              "True"
            ]
          },
          "metadata": {},
          "execution_count": 39
        }
      ]
    },
    {
      "cell_type": "code",
      "source": [
        "with open('bot.txt','r', encoding='utf8', errors ='ignore') as fin:\n",
        "    rd = fin.read().lower()\n",
        "nltk.download('punkt')\n",
        "nltk.download('wordnet')\n",
        "sent_tokens = nltk.sent_tokenize(rd)\n",
        "word_tokens = nltk.word_tokenize(rd)"
      ],
      "metadata": {
        "colab": {
          "base_uri": "https://localhost:8080/"
        },
        "id": "rd-23QEm7kOd",
        "outputId": "2eae197d-c2e7-4c9b-9572-3db3df05d270"
      },
      "execution_count": null,
      "outputs": [
        {
          "output_type": "stream",
          "name": "stdout",
          "text": [
            "[nltk_data] Downloading package punkt to /root/nltk_data...\n",
            "[nltk_data]   Package punkt is already up-to-date!\n",
            "[nltk_data] Downloading package wordnet to /root/nltk_data...\n",
            "[nltk_data]   Package wordnet is already up-to-date!\n"
          ]
        }
      ]
    },
    {
      "cell_type": "markdown",
      "source": [
        "Token Testing"
      ],
      "metadata": {
        "id": "tnmS117n8CoD"
      }
    },
    {
      "cell_type": "code",
      "source": [
        "sent_tokens[:4]"
      ],
      "metadata": {
        "colab": {
          "base_uri": "https://localhost:8080/"
        },
        "id": "L7dbF1bj7wGD",
        "outputId": "1f907fc8-b153-4374-941e-34ecba667f70"
      },
      "execution_count": null,
      "outputs": [
        {
          "output_type": "execute_result",
          "data": {
            "text/plain": [
              "['model united nations, also known as model un or mun, is an educational simulation in which students can learn about diplomacy, international relations, and the united nations.',\n",
              " 'at an mun conference, students work as the representative of a country, organization, or person, and must solve a problem with other delegates from around the world.',\n",
              " '[1] mun teaches participants skills like research, public speaking, debating, and writing skills, in addition to critical thinking, teamwork, and leadership.',\n",
              " '[2][3] usually an extracurricular activity, some schools also offer model un as a class.']"
            ]
          },
          "metadata": {},
          "execution_count": 71
        }
      ]
    },
    {
      "cell_type": "code",
      "source": [
        "word_tokens[:4]"
      ],
      "metadata": {
        "colab": {
          "base_uri": "https://localhost:8080/"
        },
        "id": "7_RGQAiu8t9Y",
        "outputId": "3a8025d5-121b-44b2-f9bd-48315b468c4d"
      },
      "execution_count": null,
      "outputs": [
        {
          "output_type": "execute_result",
          "data": {
            "text/plain": [
              "['model', 'united', 'nations', ',']"
            ]
          },
          "metadata": {},
          "execution_count": 72
        }
      ]
    },
    {
      "cell_type": "code",
      "source": [
        "GREETING_INPUTS = (\"hello\", \"hi\", \"greetings\", \"sup\", \"what's up\",\"hey\",)\n",
        "GREETING_RESPONSES = [\"hi\", \"hey\", \"*nods*\", \"hi there\", \"hello\",'Jai shree Ram',\"I am glad! You are talking to me\"]\n",
        "\n",
        "def greeting(sentence):\n",
        "    \"\"\"If user's input is a greeting, return a greeting response\"\"\"\n",
        "    for word in sentence.split():\n",
        "        if word.lower() in GREETING_INPUTS:\n",
        "            return random.choice(GREETING_RESPONSES)\n"
      ],
      "metadata": {
        "id": "DapYm1UJ_WNg"
      },
      "execution_count": null,
      "outputs": []
    },
    {
      "cell_type": "code",
      "source": [
        "lemmer = WordNetLemmatizer()\n",
        "def LemTokens(tokens):\n",
        "    return [lemmer.lemmatize(token) for token in tokens]\n",
        "remove_punct_dict = dict((ord(punct), None) for punct in string.punctuation)\n",
        "def LemNormalize(text):\n",
        "    return LemTokens(nltk.word_tokenize(text.lower().translate(remove_punct_dict)))"
      ],
      "metadata": {
        "id": "0PxyNgtN82pz"
      },
      "execution_count": null,
      "outputs": []
    },
    {
      "cell_type": "markdown",
      "source": [
        "Stackoverflow se help liya neeche ka hehe :)"
      ],
      "metadata": {
        "id": "PqjWtmVzIi9O"
      }
    },
    {
      "cell_type": "code",
      "source": [
        "from sklearn.feature_extraction.text import  TfidfVectorizer\n",
        "from sklearn.metrics.pairwise import cosine_similarity"
      ],
      "metadata": {
        "id": "65wvheLHCWjH"
      },
      "execution_count": null,
      "outputs": []
    },
    {
      "cell_type": "code",
      "source": [
        "def response(user_response):\n",
        "    robo_response=''\n",
        "    sent_tokens.append(user_response)\n",
        "    TfidfVec = TfidfVectorizer(tokenizer=LemNormalize, stop_words='english')\n",
        "    tfidf = TfidfVec.fit_transform(sent_tokens)\n",
        "    vals = cosine_similarity(tfidf[-1], tfidf)\n",
        "    idx=vals.argsort()[0][-2]\n",
        "    flat = vals.flatten()\n",
        "    flat.sort()\n",
        "    req_tfidf = flat[-2]\n",
        "    if(req_tfidf==0):\n",
        "        robo_response=robo_response+\"I am sorry! I don't understand you thora clear likho yaar\"\n",
        "        return robo_response\n",
        "    else:\n",
        "        robo_response = robo_response+sent_tokens[idx]\n",
        "        return robo_response"
      ],
      "metadata": {
        "id": "Vp7YWAdFETsY"
      },
      "execution_count": null,
      "outputs": []
    },
    {
      "cell_type": "code",
      "source": [
        "Flag= True\n",
        "print('HELPBOT: My name is Manoj.I know everything about MUNS Ask me anything But pehle Hi bolo, IF you dont like me \"type bye\" and ill go and kill myself :)')\n",
        "while(Flag==True):\n",
        "  user_response=input()\n",
        "  user_response=user_response.lower()\n",
        "  if(user_response!='bye'):\n",
        "    if(user_response=='thanks'):\n",
        "      Flag=False\n",
        "      print(\"HELPBOT: You are welcome and dosti mai no sorry no thank you :=)\")\n",
        "    else:\n",
        "      if(greeting(user_response)!=None):\n",
        "            print(\"HELPBOT:\"+greeting(user_response))\n",
        "      else:\n",
        "        print(\"HELPBOT: \",end=\"\")\n",
        "        print(response(user_response))\n",
        "        sent_tokens.remove(user_response)\n",
        "  else:\n",
        "    flag=False\n",
        "    print(\"HELPBOT: Bye! take care..Shabba Khair Kailash Khair\")   \n",
        "\n",
        "\n"
      ],
      "metadata": {
        "colab": {
          "base_uri": "https://localhost:8080/"
        },
        "id": "7MSa7SsjH3yG",
        "outputId": "e3148f80-74cc-4a94-dd53-d46ff0e07f01"
      },
      "execution_count": null,
      "outputs": [
        {
          "metadata": {
            "tags": null
          },
          "name": "stdout",
          "output_type": "stream",
          "text": [
            "HELPBOT: My name is Manoj.I know everything about MUNS Ask me anything But pehle Hi bolo, IF you dont like me \"type bye\" and ill go and kill myself :)\n",
            "HELPBOT:hello\n",
            "HELPBOT: [98] harvard mun india, in which over 1600 students participated in 2018,[99] techfest world mun organized by iit bombay,[100] auro model united nations (auro mun),[101][102][103][104] strawberry fields high school mun,[105][106] the heritage school mun and ivy league mun[107] are other notable inter-school mun conferences.\n",
            "HELPBOT: [6]\n",
            "\n",
            "\n",
            "contents\n",
            "1\thistory\n",
            "2\tacademic aspects\n",
            "3\tprocedures\n",
            "3.1\tcrisis committees\n",
            "4\tconference management\n",
            "5\tlanguages\n",
            "6\tattire\n",
            "7\tcommittees\n",
            "8\torganization\n",
            "9\tmodel un by region and country\n",
            "9.1\teurope\n",
            "9.1.1\tdenmark\n",
            "9.1.2\tthe netherlands\n",
            "9.1.3\tportugal\n",
            "9.1.4\tspain\n",
            "9.1.5\tturkey\n",
            "9.2\tasia-pacific\n",
            "9.2.1\tafghanistan\n",
            "9.2.2\taustralia\n",
            "9.2.3\tbangladesh\n",
            "9.2.4\tchina\n",
            "9.2.5\tindia\n",
            "9.2.6\tnew zealand\n",
            "9.2.7\tpakistan\n",
            "9.2.8\tvietnam\n",
            "9.3\tmiddle east\n",
            "9.3.1\tunited arab emirates\n",
            "9.3.2\tbahrain\n",
            "9.4\tafrica\n",
            "9.4.1\tnigeria\n",
            "9.4.2\ttunisia\n",
            "9.4.3\tother countries\n",
            "9.5\tsouth america\n",
            "9.5.1\tbrazil\n",
            "9.5.2\tperu\n",
            "9.6\tnorth america\n",
            "9.6.1\tunited states\n",
            "10\tnotable participants\n",
            "11\tsee also\n",
            "12\treferences\n",
            "13\tfurther reading\n",
            "14\texternal links\n",
            "history\n",
            "model un began as a series of student-led model league of nations simulations.\n",
            "HELPBOT: [11] it was initiated by dr. harry reiff, head of the history and government department, with the assistance of departmental colleague otto l.\n",
            "HELPBOT: I am sorry! I don't understand you thora clear likho yaar\n",
            "HELPBOT: [97]\n",
            "\n",
            "india\n",
            "the doon school model united nations is one of the largest inter-school conferences in the country, with delegates coming from all across the indian subcontinent and beyond.\n"
          ]
        }
      ]
    }
  ]
}